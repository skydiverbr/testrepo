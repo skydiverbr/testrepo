{
 "cells": [
  {
   "cell_type": "markdown",
   "metadata": {},
   "source": [
    "<center>\n",
    "    <img src=\"https://s3-api.us-geo.objectstorage.softlayer.net/cf-courses-data/CognitiveClass/Logos/organization_logo/organization_logo.png\" width=\"300\" alt=\"cognitiveclass.ai logo\"  />\n",
    "</center>\n"
   ]
  },
  {
   "cell_type": "markdown",
   "metadata": {},
   "source": [
    "#### Add your code below following the instructions given in the course\n"
   ]
  },
  {
   "cell_type": "markdown",
   "metadata": {},
   "source": [
    "<h1>My Jupyter Notebook on IBM Watson Studio</h1>"
   ]
  },
  {
   "cell_type": "markdown",
   "metadata": {
    "tags": []
   },
   "source": [
    "## Anderson Fernandes de Oliveira\n",
    "Automation Engineer"
   ]
  },
  {
   "cell_type": "markdown",
   "metadata": {},
   "source": [
    "I am interested in data science because it is a topic that stimulates my mind and provides a plethora of useful tools and methods for dealing and reaching practical results with data"
   ]
  },
  {
   "cell_type": "markdown",
   "metadata": {},
   "source": [
    "<h3>This is a simple code snippet that sums 1 + 1 just for demonstration purposes of the features of a Jupyter Notebook</h3>"
   ]
  },
  {
   "cell_type": "code",
   "execution_count": 5,
   "metadata": {},
   "outputs": [
    {
     "data": {
      "text/plain": [
       "2"
      ]
     },
     "execution_count": 5,
     "metadata": {},
     "output_type": "execute_result"
    }
   ],
   "source": [
    "# Python code that sums 1 + 1\n",
    "\n",
    "1 + 1"
   ]
  },
  {
   "cell_type": "markdown",
   "metadata": {
    "tags": []
   },
   "source": [
    "<h3>This is a numbered list created in HTML, with a bulleted list inside it, and a few hyperlinks:</h3>\n",
    "<hr>\n",
    "<ol>\n",
    "<li>Apple</li>\n",
    "<li>Banana</li>\n",
    "<ul>\n",
    "<li><a href=\"https://banana.blog.br/wp-content/uploads/2016/12/banana-da-terra.jpg\">Banana da Terra</a></li>\n",
    "<li><a href=\"https://banana.blog.br/wp-content/uploads/2016/12/banana-prata-beneficios.jpg\">Banana Prata</a></li>\n",
    "<li><a href=\"https://www.banana.blog.br/wp-content/uploads/2016/07/banana-dagua-1140x760.jpg\">Banana Nanica</a></li>\n",
    "</ul>\n",
    "<li>Orange</li>\n",
    "</ol>\n",
    "<hr>\n",
    "\n"
   ]
  }
 ],
 "metadata": {
  "kernelspec": {
   "display_name": "Python",
   "language": "python",
   "name": "conda-env-python-py"
  },
  "language_info": {
   "codemirror_mode": {
    "name": "ipython",
    "version": 3
   },
   "file_extension": ".py",
   "mimetype": "text/x-python",
   "name": "python",
   "nbconvert_exporter": "python",
   "pygments_lexer": "ipython3",
   "version": "3.7.12"
  }
 },
 "nbformat": 4,
 "nbformat_minor": 4
}
